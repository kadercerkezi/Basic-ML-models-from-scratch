{
 "cells": [
  {
   "cell_type": "code",
   "execution_count": 1,
   "id": "e30ac517",
   "metadata": {},
   "outputs": [],
   "source": [
    "import numpy as np\n",
    "import matplotlib.pyplot as plt\n",
    "import pandas as pd\n"
   ]
  },
  {
   "cell_type": "markdown",
   "id": "f5c7983f",
   "metadata": {},
   "source": [
    " Let's start with simple dataset "
   ]
  },
  {
   "cell_type": "code",
   "execution_count": 2,
   "id": "f7f328c2",
   "metadata": {},
   "outputs": [],
   "source": [
    "X_train = np.array([[0.5, 1.5], [1,1], [1.5, 0.5], [3, 0.5], [2, 2], [1, 2.5]])  #(m,n)\n",
    "y_train = np.array([[0, 0, 0, 1, 1, 1]]).T #(m,)\n",
    "\n"
   ]
  },
  {
   "cell_type": "markdown",
   "id": "0640e8da",
   "metadata": {},
   "source": [
    "### Define Sigmoid Function  ans Cost Function "
   ]
  },
  {
   "cell_type": "markdown",
   "id": "9de64f9c",
   "metadata": {},
   "source": [
    "There is convinent function that we use for Logistic Regression is called Sigmoid :\n",
    "$$ \\begin{equation*}\n",
    "g(z) = \\frac{1}{1+ e^{-z}}\n",
    "\\end{equation*} \n",
    "$$"
   ]
  },
  {
   "cell_type": "code",
   "execution_count": 3,
   "id": "984af35c",
   "metadata": {},
   "outputs": [],
   "source": [
    "def sigmoid(x):\n",
    "    sig = 1/(1+np.exp(-x))\n",
    "    return sig"
   ]
  },
  {
   "cell_type": "code",
   "execution_count": 4,
   "id": "1fbbc658",
   "metadata": {},
   "outputs": [],
   "source": [
    "# Cost function \n",
    "def cost(x,y):\n",
    "    m = x.shape[0]\n",
    "    loss = -y*np.log(sigmoid(x)) - (1-y)*np.log(1-sigmoid(x))\n",
    "    cost = (1/m)*np.sum(loss)\n",
    "    return cost\n",
    "    "
   ]
  },
  {
   "cell_type": "markdown",
   "id": "3799da9f",
   "metadata": {},
   "source": [
    "### Gradient Descent"
   ]
  },
  {
   "cell_type": "markdown",
   "id": "cea8e870",
   "metadata": {},
   "source": [
    "<!-- <img align=\"right\" src=\"./images/C1_W3_Logistic_gradient_descent.png\"     style=\" width:400px; padding: 10px; \" > -->\n",
    "\n",
    "Recall the gradient descent algorithm utilizes the gradient calculation:\n",
    "$$\\begin{align*}\n",
    "&\\text{repeat until convergence:} \\; \\lbrace \\\\\n",
    "&  \\; \\; \\;w_j = w_j -  \\alpha \\frac{\\partial J(\\mathbf{w},b)}{\\partial w_j} \\tag{1}  \\; & \\text{for j := 0..n-1} \\\\ \n",
    "&  \\; \\; \\;  \\; \\;b = b -  \\alpha \\frac{\\partial J(\\mathbf{w},b)}{\\partial b} \\\\\n",
    "&\\rbrace\n",
    "\\end{align*}$$\n",
    "\n",
    "Where each iteration performs simultaneous updates on $w_j$ for all $j$, where\n",
    "$$\\begin{align*}\n",
    "\\frac{\\partial J(\\mathbf{w},b)}{\\partial w_j}  &= \\frac{1}{m} \\sum\\limits_{i = 0}^{m-1} (f_{\\mathbf{w},b}(\\mathbf{x}^{(i)}) - y^{(i)})x_{j}^{(i)} \\tag{2} \\\\\n",
    "\\frac{\\partial J(\\mathbf{w},b)}{\\partial b}  &= \\frac{1}{m} \\sum\\limits_{i = 0}^{m-1} (f_{\\mathbf{w},b}(\\mathbf{x}^{(i)}) - y^{(i)}) \\tag{3} \n",
    "\\end{align*}$$\n",
    "\n",
    "* m is the number of training examples in the data set      \n",
    "* $f_{\\mathbf{w},b}(x^{(i)})$ is the model's prediction, while $y^{(i)}$ is the target\n",
    "* For a logistic regression model  \n",
    "    $z = \\mathbf{w} \\cdot \\mathbf{x} + b$  \n",
    "    $f_{\\mathbf{w},b}(x) = g(z)$  \n",
    "    where $g(z)$ is the sigmoid function:  \n",
    "    $g(z) = \\frac{1}{1+e^{-z}}$   \n",
    "    \n"
   ]
  },
  {
   "cell_type": "code",
   "execution_count": 5,
   "id": "370ed862",
   "metadata": {},
   "outputs": [],
   "source": [
    "def gradient_descent(x, y,n_iter, learning_rate):\n",
    "    \n",
    "    num_obs = x.shape[0]    # numri i observimeve\n",
    "    num_feature = x.shape[1]    # numri  i parametrave\n",
    "    w = np.ones(( num_feature,1)) # koeficentet qe duhen te permisiohen gjate iterimeve\n",
    "    b = 0\n",
    "    \n",
    "    error_hist = []\n",
    "    for i in range(n_iter):\n",
    "        \n",
    "        z = np.dot(x,w) +b\n",
    "#         print(z.shape)\n",
    "        g = sigmoid(z)\n",
    "        \n",
    "        \n",
    "        \n",
    "        dcost_dw =  np.sum(np.dot(x.T,g-y))\n",
    "        dcost_db = np.sum(g-y) \n",
    "        \n",
    "#         print('shape of dcost_dw: ',  dcost_dw.shape)\n",
    "#         print('shape of dcost_db: ',  dcost_db.shape)\n",
    "         \n",
    "\n",
    "        w = w - (learning_rate/num_obs)*dcost_dw\n",
    "        b = b - (learning_rate/num_obs)*np.sum(g-y)\n",
    "        \n",
    "        error_hist.append(cost(g,y))\n",
    "        \n",
    "        if(i%(n_iter/10)==0):\n",
    "            print('cost after ', i, 'iteration is: ', cost(sigmoid(z), y))\n",
    "    print()\n",
    "    \n",
    "#     print('Shape of (g-y): ', (g-y).shape, ', x shape:', x.shape, ', z shape:', z.shape, ', g shape:', g.shape) \n",
    "    \n",
    "    print()\n",
    "    \n",
    "    df = pd.DataFrame({'results':sigmoid(z).flatten().round(2),'predictions ': sigmoid(z).flatten().round(0), 'target': y_train.flatten()})\n",
    "    \n",
    "    \n",
    "    plt.plot(error_hist)\n",
    "    plt.title('learning curve')\n",
    "    \n",
    "    sigmoid(z)\n",
    "    print(df)\n",
    "    \n",
    "    print()\n",
    "\n",
    "    return w, b, error_hist \n",
    "        "
   ]
  },
  {
   "cell_type": "code",
   "execution_count": 6,
   "id": "805272b2",
   "metadata": {},
   "outputs": [],
   "source": [
    "learning_rate = 0.05\n",
    "n_iter = 10000\n"
   ]
  },
  {
   "cell_type": "code",
   "execution_count": 7,
   "id": "4c0000fd",
   "metadata": {},
   "outputs": [
    {
     "name": "stdout",
     "output_type": "stream",
     "text": [
      "cost after  0 iteration is:  0.773868183566613\n",
      "cost after  1000 iteration is:  0.5977036766578802\n",
      "cost after  2000 iteration is:  0.559952223170194\n",
      "cost after  3000 iteration is:  0.5431261542456407\n",
      "cost after  4000 iteration is:  0.533826895289738\n",
      "cost after  5000 iteration is:  0.5279793243808446\n",
      "cost after  6000 iteration is:  0.523979443035265\n",
      "cost after  7000 iteration is:  0.5210777515752666\n",
      "cost after  8000 iteration is:  0.5188796660154615\n",
      "cost after  9000 iteration is:  0.5171585105119302\n",
      "\n",
      "\n",
      "   results  predictions   target\n",
      "0     0.04           0.0       0\n",
      "1     0.04           0.0       0\n",
      "2     0.04           0.0       0\n",
      "3     0.97           1.0       1\n",
      "4     1.00           1.0       1\n",
      "5     0.97           1.0       1\n",
      "\n",
      "[[4.42796315]\n",
      " [4.42796315]] -12.100256029582079\n"
     ]
    },
    {
     "data": {
      "image/png": "[encoded data removed]",
      "text/plain": [
       "<Figure size 640x480 with 1 Axes>"
      ]
     },
     "metadata": {},
     "output_type": "display_data"
    }
   ],
   "source": [
    "w, b, error = gradient_descent(X_train, y_train, n_iter, learning_rate)\n",
    "print(w, b)"
   ]
  },
  {
   "cell_type": "markdown",
   "id": "115e3af5",
   "metadata": {},
   "source": [
    "### Plotting  categories of datasets and Decision Boundery "
   ]
  },
  {
   "cell_type": "code",
   "execution_count": 8,
   "id": "c9718e47",
   "metadata": {},
   "outputs": [
    {
     "data": {
      "text/plain": [
       "Text(0, 0.5, 'x2')"
      ]
     },
     "execution_count": 8,
     "metadata": {},
     "output_type": "execute_result"
    },
    {
     "data": {
      "image/png": "[encoded data removed]",
      "text/plain": [
       "<Figure size 640x480 with 1 Axes>"
      ]
     },
     "metadata": {},
     "output_type": "display_data"
    }
   ],
   "source": [
    "x1 = np.arange(0,4)\n",
    "plt.plot(x1, -b/w[0] - x1, label=' Decision boundary ') # this is from equation w1*x1 + w2*x2 + b = 0 or z = np.dot(x,w) + b =0, decision boundery\n",
    "plt.scatter(X_train[:,:1], X_train[:,1:], c = y_train, s=100)\n",
    "plt.legend()\n",
    "plt.title('The line of Decision boundary ')\n",
    "plt.xlabel('x1')\n",
    "plt.ylabel('x2')"
   ]
  },
  {
   "cell_type": "code",
   "execution_count": 54,
   "id": "df8262aa",
   "metadata": {},
   "outputs": [
    {
     "data": {
      "text/plain": [
       "array([[0.5],\n",
       "       [1. ],\n",
       "       [1.5],\n",
       "       [3. ],\n",
       "       [2. ],\n",
       "       [1. ]])"
      ]
     },
     "execution_count": 54,
     "metadata": {},
     "output_type": "execute_result"
    }
   ],
   "source": [
    "X_train[:, :1"
   ]
  },
  {
   "cell_type": "code",
   "execution_count": null,
   "id": "09638005",
   "metadata": {},
   "outputs": [],
   "source": []
  }
 ],
 "metadata": {
  "kernelspec": {
   "display_name": "Python 3 (ipykernel)",
   "language": "python",
   "name": "python3"
  },
  "language_info": {
   "codemirror_mode": {
    "name": "ipython",
    "version": 3
   },
   "file_extension": ".py",
   "mimetype": "text/x-python",
   "name": "python",
   "nbconvert_exporter": "python",
   "pygments_lexer": "ipython3",
   "version": "3.9.13"
  }
 },
 "nbformat": 4,
 "nbformat_minor": 5
}
