{
 "cells": [
  {
   "cell_type": "code",
   "execution_count": 47,
   "id": "a4a2eb6d",
   "metadata": {},
   "outputs": [],
   "source": [
    "import pandas as pd\n",
    "import numpy as np\n",
    "import matplotlib.pyplot as plt\n",
    "import scipy.stats "
   ]
  },
  {
   "cell_type": "markdown",
   "id": "7dab3383",
   "metadata": {},
   "source": [
    "#### Preapering Dataset "
   ]
  },
  {
   "cell_type": "code",
   "execution_count": 2,
   "id": "6a2ff9df",
   "metadata": {},
   "outputs": [],
   "source": [
    "dic_data = {'Heights':[63, 64, 66, 69, 70, 72, 74], 'Weights': [127, 131, 142, 160, 160, 171, 175] }"
   ]
  },
  {
   "cell_type": "code",
   "execution_count": 3,
   "id": "40dc7bb3",
   "metadata": {},
   "outputs": [],
   "source": [
    "data_set = pd.DataFrame(dic_data)"
   ]
  },
  {
   "cell_type": "code",
   "execution_count": 4,
   "id": "c7844b3f",
   "metadata": {},
   "outputs": [
    {
     "data": {
      "text/html": [
       "<div>\n",
       "<style scoped>\n",
       "    .dataframe tbody tr th:only-of-type {\n",
       "        vertical-align: middle;\n",
       "    }\n",
       "\n",
       "    .dataframe tbody tr th {\n",
       "        vertical-align: top;\n",
       "    }\n",
       "\n",
       "    .dataframe thead th {\n",
       "        text-align: right;\n",
       "    }\n",
       "</style>\n",
       "<table border=\"1\" class=\"dataframe\">\n",
       "  <thead>\n",
       "    <tr style=\"text-align: right;\">\n",
       "      <th></th>\n",
       "      <th>Heights</th>\n",
       "      <th>Weights</th>\n",
       "    </tr>\n",
       "  </thead>\n",
       "  <tbody>\n",
       "    <tr>\n",
       "      <th>0</th>\n",
       "      <td>63</td>\n",
       "      <td>127</td>\n",
       "    </tr>\n",
       "    <tr>\n",
       "      <th>1</th>\n",
       "      <td>64</td>\n",
       "      <td>131</td>\n",
       "    </tr>\n",
       "    <tr>\n",
       "      <th>2</th>\n",
       "      <td>66</td>\n",
       "      <td>142</td>\n",
       "    </tr>\n",
       "    <tr>\n",
       "      <th>3</th>\n",
       "      <td>69</td>\n",
       "      <td>160</td>\n",
       "    </tr>\n",
       "    <tr>\n",
       "      <th>4</th>\n",
       "      <td>70</td>\n",
       "      <td>160</td>\n",
       "    </tr>\n",
       "    <tr>\n",
       "      <th>5</th>\n",
       "      <td>72</td>\n",
       "      <td>171</td>\n",
       "    </tr>\n",
       "    <tr>\n",
       "      <th>6</th>\n",
       "      <td>74</td>\n",
       "      <td>175</td>\n",
       "    </tr>\n",
       "  </tbody>\n",
       "</table>\n",
       "</div>"
      ],
      "text/plain": [
       "   Heights  Weights\n",
       "0       63      127\n",
       "1       64      131\n",
       "2       66      142\n",
       "3       69      160\n",
       "4       70      160\n",
       "5       72      171\n",
       "6       74      175"
      ]
     },
     "execution_count": 4,
     "metadata": {},
     "output_type": "execute_result"
    }
   ],
   "source": [
    "data_set"
   ]
  },
  {
   "cell_type": "code",
   "execution_count": 5,
   "id": "604bff02",
   "metadata": {},
   "outputs": [
    {
     "data": {
      "text/plain": [
       "Text(0.5, 1.0, 'Scatter plot of data')"
      ]
     },
     "execution_count": 5,
     "metadata": {},
     "output_type": "execute_result"
    },
    {
     "data": {
      "image/png": "[encoded data removed]",
      "text/plain": [
       "<Figure size 640x480 with 1 Axes>"
      ]
     },
     "metadata": {},
     "output_type": "display_data"
    }
   ],
   "source": [
    "plt.scatter(data_set['Heights'], data_set['Weights'])\n",
    "plt.xlabel('Heights')\n",
    "plt.ylabel('Weights')\n",
    "plt.title('Scatter plot of data')"
   ]
  },
  {
   "cell_type": "code",
   "execution_count": 6,
   "id": "1612e82b",
   "metadata": {},
   "outputs": [
    {
     "name": "stdout",
     "output_type": "stream",
     "text": [
      "The values of heights:  [[63]\n",
      " [64]\n",
      " [66]\n",
      " [69]\n",
      " [70]\n",
      " [72]\n",
      " [74]] The value of Weights:  [[127]\n",
      " [131]\n",
      " [142]\n",
      " [160]\n",
      " [160]\n",
      " [171]\n",
      " [175]]\n"
     ]
    }
   ],
   "source": [
    "x = np.array(data_set['Heights']).reshape(7,1) # the values of heights I converted to np array as x\n",
    "y = np.array(data_set['Weights']).reshape(7,1) # the values of Weights I converted to np array as y\n",
    "\n",
    "print('The values of heights: ', x, 'The value of Weights: ', y)"
   ]
  },
  {
   "cell_type": "markdown",
   "id": "ff24856e",
   "metadata": {},
   "source": [
    "Now we can start to implement Linear Regression\n",
    "\n",
    "The Cost function is defined as $ cost = \\frac{1}{2n}\\sum_{i=1}^{n}(y^{(i)}-\\hat{y}^{(i)})^2 $ where $\\hat{y} = ax+b $"
   ]
  },
  {
   "cell_type": "code",
   "execution_count": 7,
   "id": "d24fd65f",
   "metadata": {},
   "outputs": [],
   "source": [
    "def cost(y,y_):\n",
    "    loss = (y - y_)**2\n",
    "    cost = np.sum(loss)\n",
    "    return cost\n",
    "    "
   ]
  },
  {
   "cell_type": "markdown",
   "id": "dbbb5a36",
   "metadata": {},
   "source": [
    "To find gradient of $$ cost = \\frac{1}{n}\\sum_{i=1}^{n}(y^{(i)}-ax^{(i)}-b)^2 $$ we should take partial derivatives of cost function, we will use chain  rule for derivatives to find derivatives with respect to x and b.\n",
    "$$ \\frac{\\partial cost}{\\partial a}= \\frac{1}{n}\\sum_{i=1}^{n}(y^{(i)} - ax^{i} -b)x^{i} $$\n",
    "$$ \\frac{\\partial cost}{\\partial b}= \\frac{1}{n}\\sum_{i=1}^{n}(y^{(i)} - ax^{i} -b) $$\n",
    "\n",
    "example:\n",
    "\n",
    "derivative of $y = (ax +b)^2 $ with respect to a is $ h' = 2(ax+b)x$\n",
    "\n",
    "\n",
    "\n",
    " "
   ]
  },
  {
   "cell_type": "code",
   "execution_count": 8,
   "id": "a2e95b4b",
   "metadata": {},
   "outputs": [
    {
     "data": {
      "text/plain": [
       "7"
      ]
     },
     "execution_count": 8,
     "metadata": {},
     "output_type": "execute_result"
    }
   ],
   "source": [
    "y.shape[0]"
   ]
  },
  {
   "cell_type": "code",
   "execution_count": 87,
   "id": "2cc2caf9",
   "metadata": {},
   "outputs": [],
   "source": [
    "\n",
    "def linear_model(x, y, n_iter, l_r):\n",
    "    \n",
    "    n = y.shape[0]\n",
    "    a=3\n",
    "    b=-70\n",
    "    error_history = []\n",
    "    for i in range(n_iter+1):\n",
    "        \n",
    "        y_ = a*x + b # y_  predicted value\n",
    "        dcost_da = (1/n)* np.dot(x.T,y_ - y)\n",
    "        dcost_db = (1/n)*np.sum(y_ - y)\n",
    "        \n",
    "        \n",
    "        a = a - l_r*dcost_da\n",
    "        b = b - l_r*dcost_db\n",
    "        \n",
    "        error_history.append(cost(y,y_))\n",
    "        \n",
    "    plt.plot(error_history)\n",
    "    plt.title('Learning Curve')\n",
    "    plt.xlabel('num of  iter')\n",
    "    plt.ylabel('value of errors')\n",
    "    \n",
    "    y_ = a*x + b # y predicted value\n",
    "    \n",
    "    \n",
    "    df = pd.DataFrame({'true_values': y.flatten(), 'predicted values': y_.flatten()})\n",
    "    print(df)\n",
    "    \n",
    "    return a, b\n",
    "        \n",
    "\n"
   ]
  },
  {
   "cell_type": "code",
   "execution_count": 88,
   "id": "5533e9f2",
   "metadata": {},
   "outputs": [],
   "source": [
    "n_iter = 800000\n",
    "l_r = 0.0004\n"
   ]
  },
  {
   "cell_type": "code",
   "execution_count": null,
   "id": "460d05da",
   "metadata": {},
   "outputs": [],
   "source": []
  },
  {
   "cell_type": "code",
   "execution_count": 89,
   "id": "5f55e1f6",
   "metadata": {},
   "outputs": [
    {
     "name": "stdout",
     "output_type": "stream",
     "text": [
      "   true_values  predicted values\n",
      "0          127        130.711827\n",
      "1          131        134.813325\n",
      "2          142        143.016320\n",
      "3          160        155.320813\n",
      "4          160        159.422311\n",
      "5          171        167.625306\n",
      "6          175        175.828301\n"
     ]
    },
    {
     "data": {
      "image/png": "[encoded data removed]",
      "text/plain": [
       "<Figure size 640x480 with 1 Axes>"
      ]
     },
     "metadata": {},
     "output_type": "display_data"
    }
   ],
   "source": [
    "a, b=  linear_model(x, y, n_iter, l_r)\n",
    "line_fits_data = a*x + b"
   ]
  },
  {
   "cell_type": "code",
   "execution_count": 90,
   "id": "057dbe94",
   "metadata": {},
   "outputs": [
    {
     "name": "stdout",
     "output_type": "stream",
     "text": [
      "[[4.10149761]] -127.68252197136074\n"
     ]
    }
   ],
   "source": [
    "print(a, b)"
   ]
  },
  {
   "cell_type": "code",
   "execution_count": 91,
   "id": "141ff787",
   "metadata": {},
   "outputs": [
    {
     "data": {
      "text/plain": [
       "<matplotlib.collections.PathCollection at 0x18ef90c3910>"
      ]
     },
     "execution_count": 91,
     "metadata": {},
     "output_type": "execute_result"
    },
    {
     "data": {
      "image/png": "[encoded data removed]",
      "text/plain": [
       "<Figure size 640x480 with 1 Axes>"
      ]
     },
     "metadata": {},
     "output_type": "display_data"
    }
   ],
   "source": [
    "line_fits_data = a*x + b\n",
    "plt.plot(x, line_fits_data)\n",
    "plt.plot()\n",
    "plt.scatter(x, y)"
   ]
  },
  {
   "cell_type": "markdown",
   "id": "40063474",
   "metadata": {},
   "source": [
    "### Using Numpy Lib"
   ]
  },
  {
   "cell_type": "code",
   "execution_count": 92,
   "id": "a9559b1b",
   "metadata": {},
   "outputs": [
    {
     "name": "stdout",
     "output_type": "stream",
     "text": [
      "4.598591549295762 -161.73239436619633\n"
     ]
    }
   ],
   "source": [
    "a_np, b_np = np.polyfit(x.flatten(), y.flatten(), 1)\n",
    "print(a_np, b_np)"
   ]
  },
  {
   "cell_type": "code",
   "execution_count": 93,
   "id": "4ed8aa85",
   "metadata": {},
   "outputs": [],
   "source": [
    "test = a_np*x + b_np"
   ]
  },
  {
   "cell_type": "code",
   "execution_count": 94,
   "id": "b21efe41",
   "metadata": {},
   "outputs": [
    {
     "data": {
      "text/plain": [
       "[<matplotlib.lines.Line2D at 0x18ee7f8b4f0>]"
      ]
     },
     "execution_count": 94,
     "metadata": {},
     "output_type": "execute_result"
    },
    {
     "data": {
      "image/png": "[encoded data removed]",
      "text/plain": [
       "<Figure size 640x480 with 1 Axes>"
      ]
     },
     "metadata": {},
     "output_type": "display_data"
    }
   ],
   "source": [
    "plt.scatter(x, y)\n",
    "plt.plot(x, test)\n"
   ]
  },
  {
   "cell_type": "code",
   "execution_count": null,
   "id": "8798a87a",
   "metadata": {},
   "outputs": [],
   "source": []
  },
  {
   "cell_type": "code",
   "execution_count": null,
   "id": "7e823151",
   "metadata": {},
   "outputs": [],
   "source": []
  }
 ],
 "metadata": {
  "kernelspec": {
   "display_name": "Python 3 (ipykernel)",
   "language": "python",
   "name": "python3"
  },
  "language_info": {
   "codemirror_mode": {
    "name": "ipython",
    "version": 3
   },
   "file_extension": ".py",
   "mimetype": "text/x-python",
   "name": "python",
   "nbconvert_exporter": "python",
   "pygments_lexer": "ipython3",
   "version": "3.9.13"
  }
 },
 "nbformat": 4,
 "nbformat_minor": 5
}
